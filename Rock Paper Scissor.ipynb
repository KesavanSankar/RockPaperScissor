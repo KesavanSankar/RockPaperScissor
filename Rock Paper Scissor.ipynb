{
 "cells": [
  {
   "cell_type": "code",
   "execution_count": 8,
   "id": "10da414c",
   "metadata": {},
   "outputs": [],
   "source": [
    "import random"
   ]
  },
  {
   "cell_type": "code",
   "execution_count": 1,
   "id": "66ec34ef",
   "metadata": {},
   "outputs": [],
   "source": [
    "def player_details():\n",
    "    global player_1\n",
    "    if not player_1:\n",
    "        player_1=str(input('Enter the name of player_1:'))\n",
    "    player_2='Computer'\n",
    "    return player_1,player_2"
   ]
  },
  {
   "cell_type": "code",
   "execution_count": 2,
   "id": "aba6f9c6",
   "metadata": {},
   "outputs": [],
   "source": [
    "def computer_chance():\n",
    "    option=['ROCK','PAPER','SCISSOR']\n",
    "    computer_choice=option[random.randint(0,2)]\n",
    "    return computer_choice"
   ]
  },
  {
   "cell_type": "code",
   "execution_count": 3,
   "id": "0a948254",
   "metadata": {},
   "outputs": [],
   "source": [
    "def player_choice():\n",
    "    player_choices=str(input('Enter the choice of player: '))\n",
    "    return player_choices.upper()"
   ]
  },
  {
   "cell_type": "code",
   "execution_count": 4,
   "id": "e4e2f38f",
   "metadata": {},
   "outputs": [],
   "source": [
    "def options_available():\n",
    "    option=['ROCK','PAPER','SCISSOR']\n",
    "    return option"
   ]
  },
  {
   "cell_type": "code",
   "execution_count": 5,
   "id": "bb63e37b",
   "metadata": {},
   "outputs": [],
   "source": [
    "player1_points=0\n",
    "player2_points=0\n",
    "def points_player(add_point):\n",
    "    global player1_points\n",
    "    player1_points += add_point\n",
    "    return player1_points\n",
    "def points_computer(add_point):\n",
    "    global player2_points\n",
    "    player2_points += add_point\n",
    "    return player2_points"
   ]
  },
  {
   "cell_type": "code",
   "execution_count": 6,
   "id": "5101fc9c",
   "metadata": {},
   "outputs": [],
   "source": [
    "def game():\n",
    "        player1_choice=player_choice()\n",
    "        print(player1_choice)\n",
    "        player2_choice=computer_chance()\n",
    "        print(player2_choice)\n",
    "        if (player1_choice not in options_available()):\n",
    "            print ('Enter the valid option:')\n",
    "            player_choice()\n",
    "        else:\n",
    "            if player1_choice.upper()==player2_choice.upper():\n",
    "                print('\\nMatch is tied')\n",
    "                return 'Tie',0\n",
    "            elif(player1_choice.upper()=='SCISSOR' and player2_choice.upper()=='ROCK') or (player1_choice.upper()=='ROCK' and player2_choice.upper()=='PAPER') or (player1_choice.upper()=='PAPER' and player2_choice.upper()=='SCISSOR'):\n",
    "                c=points_computer(1)\n",
    "                a=player_details()[1]\n",
    "                #print(a)\n",
    "                return a,c\n",
    "            else:\n",
    "                c=points_player(1)\n",
    "                a=player_details()[0]\n",
    "                #print(a)\n",
    "                return a,c"
   ]
  },
  {
   "cell_type": "code",
   "execution_count": 7,
   "id": "643d308d",
   "metadata": {},
   "outputs": [
    {
     "name": "stdout",
     "output_type": "stream",
     "text": [
      "Enter the number of games : 3\n",
      "Enter the name of player_1:Kesavan\n",
      "Enter the choice of player: paper\n",
      "PAPER\n",
      "PAPER\n",
      "\n",
      "Match is tied\n",
      "Match Ties in this round 1\n",
      "***************************************\n",
      "Enter the choice of player: rock\n",
      "ROCK\n",
      "SCISSOR\n",
      "In this round 2 : Kesavan wins\n",
      "***************************************\n",
      "Enter the choice of player: paper\n",
      "PAPER\n",
      "PAPER\n",
      "\n",
      "Match is tied\n",
      "Match Ties in this round 3\n",
      "***************************************\n",
      "Kesavan is the winner of all rounds\n",
      "***************************************\n"
     ]
    }
   ],
   "source": [
    "n=int(input('Enter the number of games : '))\n",
    "player_1=''\n",
    "a=player_details()\n",
    "\n",
    "#b=player_details()\n",
    "for i in range(0,n):\n",
    "    result=game()\n",
    "    if result[0] !='Tie':\n",
    "        print(f'In this round {i+1} : {result[0]} wins')\n",
    "        print('***************************************')\n",
    "    else:\n",
    "        print(f'Match Ties in this round {i+1}')\n",
    "        print('***************************************')\n",
    "\n",
    "if points_player(0)>points_computer(0):\n",
    "    print(f'{a[0]} is the winner of all rounds')\n",
    "elif points_player(0)<points_computer(0):\n",
    "    print(f'{a[1]} is the winner of all rounds')\n",
    "else:\n",
    "    print('Both player got same point')\n",
    "print('***************************************')"
   ]
  },
  {
   "cell_type": "code",
   "execution_count": null,
   "id": "2042c8e6",
   "metadata": {},
   "outputs": [],
   "source": []
  }
 ],
 "metadata": {
  "kernelspec": {
   "display_name": "Python 3 (ipykernel)",
   "language": "python",
   "name": "python3"
  },
  "language_info": {
   "codemirror_mode": {
    "name": "ipython",
    "version": 3
   },
   "file_extension": ".py",
   "mimetype": "text/x-python",
   "name": "python",
   "nbconvert_exporter": "python",
   "pygments_lexer": "ipython3",
   "version": "3.10.9"
  }
 },
 "nbformat": 4,
 "nbformat_minor": 5
}
